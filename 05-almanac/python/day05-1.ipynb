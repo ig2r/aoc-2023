{
 "cells": [
  {
   "cell_type": "code",
   "execution_count": null,
   "metadata": {},
   "outputs": [],
   "source": [
    "import re\n",
    "\n",
    "with open('input.txt', 'r') as f:\n",
    "  lines = f.read().splitlines()"
   ]
  },
  {
   "cell_type": "code",
   "execution_count": null,
   "metadata": {},
   "outputs": [],
   "source": [
    "def get_seeds(lines):\n",
    "  m = re.findall(r'\\d+', lines[0])\n",
    "  return list(map(int, m))\n",
    "\n",
    "def get_section(section_name, lines):\n",
    "  section_lines = []\n",
    "  in_section = False\n",
    "\n",
    "  # Load lines if section\n",
    "  for i in range(len(lines)):\n",
    "    if lines[i] == section_name:\n",
    "      in_section = True\n",
    "    elif in_section:\n",
    "      if lines[i] == '':\n",
    "        break\n",
    "      else:\n",
    "        section_lines.append(lines[i])\n",
    "\n",
    "  # Convert section lines to numbers\n",
    "  return [list(map(int, re.split(r'\\s+', l))) for l in section_lines]\n",
    "\n",
    "maps = [\n",
    "  get_section('seed-to-soil map:', lines),\n",
    "  get_section('soil-to-fertilizer map:', lines),\n",
    "  get_section('fertilizer-to-water map:', lines),\n",
    "  get_section('water-to-light map:', lines),\n",
    "  get_section('light-to-temperature map:', lines),\n",
    "  get_section('temperature-to-humidity map:', lines),\n",
    "  get_section('humidity-to-location map:', lines)\n",
    "]"
   ]
  },
  {
   "cell_type": "code",
   "execution_count": null,
   "metadata": {},
   "outputs": [],
   "source": [
    "def locate_seed(k):\n",
    "  for i in range(len(maps)):\n",
    "    map = maps[i]\n",
    "\n",
    "    for j in range(len(map)):\n",
    "      [dest, src, size] = map[j]\n",
    "      if k >= src and k < src + size:\n",
    "        k = dest + (k - src)\n",
    "        break\n",
    "\n",
    "  return k\n",
    "\n",
    "seeds = get_seeds(lines)\n",
    "locations = map(locate_seed, seeds)\n",
    "\n",
    "min(locations)"
   ]
  }
 ],
 "metadata": {
  "kernelspec": {
   "display_name": "base",
   "language": "python",
   "name": "python3"
  },
  "language_info": {
   "codemirror_mode": {
    "name": "ipython",
    "version": 3
   },
   "file_extension": ".py",
   "mimetype": "text/x-python",
   "name": "python",
   "nbconvert_exporter": "python",
   "pygments_lexer": "ipython3",
   "version": "3.11.5"
  }
 },
 "nbformat": 4,
 "nbformat_minor": 2
}
