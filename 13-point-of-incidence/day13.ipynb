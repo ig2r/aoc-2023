{
 "cells": [
  {
   "cell_type": "code",
   "execution_count": null,
   "metadata": {},
   "outputs": [],
   "source": [
    "import numpy as np\n",
    "\n",
    "with open('sample.txt', 'r') as f:\n",
    "  lines = f.read().splitlines()"
   ]
  },
  {
   "cell_type": "code",
   "execution_count": null,
   "metadata": {},
   "outputs": [],
   "source": [
    "separators = [i for i, l in enumerate(lines) if not l]\n",
    "\n",
    "starts = [0] + [i + 1 for i in separators]\n",
    "ends = separators + [len(lines)]\n",
    "\n",
    "patterns = [np.array([[1 if c == '#' else 0 for c in l] for l in lines[s:e]]) for s, e in zip(starts, ends)]"
   ]
  },
  {
   "cell_type": "markdown",
   "metadata": {},
   "source": [
    "## Part 1"
   ]
  },
  {
   "cell_type": "code",
   "execution_count": null,
   "metadata": {},
   "outputs": [],
   "source": [
    "def find_reflection_rows(p):\n",
    "  rows = []\n",
    "  for i in range(1, p.shape[0]):\n",
    "    top_half = p[:i]\n",
    "    bottom_half = p[i:]\n",
    "\n",
    "    top_half = np.flip(top_half, axis=0)\n",
    "    h = min(top_half.shape[0], bottom_half.shape[0])\n",
    "\n",
    "    if np.array_equal(top_half[:h], bottom_half[:h]):\n",
    "      rows.append(i)\n",
    "  return rows\n",
    "\n",
    "rows = [r for p in patterns\n",
    "          for r in find_reflection_rows(p)]\n",
    "\n",
    "cols = [c for p in patterns\n",
    "          for c in find_reflection_rows(p.T)]\n",
    "\n",
    "sum(cols) + sum(r * 100 for r in rows)"
   ]
  },
  {
   "cell_type": "markdown",
   "metadata": {},
   "source": [
    "## Part 2"
   ]
  },
  {
   "cell_type": "code",
   "execution_count": null,
   "metadata": {},
   "outputs": [],
   "source": [
    "def desmudged_reflection_rows(p):\n",
    "  rows = []\n",
    "  for i in range(1, p.shape[0]):\n",
    "    top_half = p[:i]\n",
    "    bottom_half = p[i:]\n",
    "\n",
    "    top_half = np.flip(top_half, axis=0)\n",
    "    h = min(top_half.shape[0], bottom_half.shape[0])\n",
    "\n",
    "    # Instead of an exact comparison, find the number of elements in which the two\n",
    "    # matrices differ. If there's exactly one difference, we found the smudge to fix.\n",
    "    d = top_half[:h] - bottom_half[:h]\n",
    "    if np.count_nonzero(d) == 1:\n",
    "      rows.append(i)\n",
    "  return rows\n",
    "\n",
    "rows = [r for p in patterns\n",
    "          for r in desmudged_reflection_rows(p)]\n",
    "\n",
    "cols = [c for p in patterns\n",
    "          for c in desmudged_reflection_rows(p.T)]\n",
    "\n",
    "sum(cols) + sum(r * 100 for r in rows)"
   ]
  }
 ],
 "metadata": {
  "kernelspec": {
   "display_name": "base",
   "language": "python",
   "name": "python3"
  },
  "language_info": {
   "codemirror_mode": {
    "name": "ipython",
    "version": 3
   },
   "file_extension": ".py",
   "mimetype": "text/x-python",
   "name": "python",
   "nbconvert_exporter": "python",
   "pygments_lexer": "ipython3",
   "version": "3.11.5"
  }
 },
 "nbformat": 4,
 "nbformat_minor": 2
}
