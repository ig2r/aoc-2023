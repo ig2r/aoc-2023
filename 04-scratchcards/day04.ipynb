{
 "cells": [
  {
   "cell_type": "code",
   "execution_count": 82,
   "metadata": {},
   "outputs": [],
   "source": [
    "import re\n",
    "\n",
    "with open('input.txt', 'r') as f:\n",
    "  lines = f.read().splitlines()"
   ]
  },
  {
   "cell_type": "code",
   "execution_count": 83,
   "metadata": {},
   "outputs": [],
   "source": [
    "def parse_numbers(numbers):\n",
    "  components = re.split(r'\\s+', numbers)\n",
    "  return list(map(int, components))\n",
    "\n",
    "def parse_card(line):\n",
    "  m = re.search(r'Card +(\\d+): +(.+) +\\| +(.+)', line)\n",
    "  (card_id, winning_numbers, own_numbers) = m.groups()\n",
    "  return (int(card_id), set(parse_numbers(winning_numbers)), set(parse_numbers(own_numbers)))\n",
    "\n",
    "def overlap_cardinality(winning_numbers, own_numbers):\n",
    "  return len(winning_numbers.intersection(own_numbers))\n",
    "\n",
    "cards = list(map(parse_card, lines))"
   ]
  },
  {
   "cell_type": "markdown",
   "metadata": {},
   "source": [
    "## Part 1"
   ]
  },
  {
   "cell_type": "code",
   "execution_count": 84,
   "metadata": {},
   "outputs": [
    {
     "data": {
      "text/plain": [
       "20667"
      ]
     },
     "execution_count": 84,
     "metadata": {},
     "output_type": "execute_result"
    }
   ],
   "source": [
    "\n",
    "overlaps = [overlap_cardinality(winning_numbers, own_numbers) for (_, winning_numbers, own_numbers) in cards]\n",
    "sum([2 ** (overlap - 1) for overlap in overlaps if overlap > 0])"
   ]
  },
  {
   "cell_type": "markdown",
   "metadata": {},
   "source": [
    "## Part 2"
   ]
  },
  {
   "cell_type": "code",
   "execution_count": 85,
   "metadata": {},
   "outputs": [
    {
     "data": {
      "text/plain": [
       "5833065"
      ]
     },
     "execution_count": 85,
     "metadata": {},
     "output_type": "execute_result"
    }
   ],
   "source": [
    "numbers = [1 for i in range(len(cards))]\n",
    "\n",
    "for i in range(len(cards)):\n",
    "  winners = overlaps[i]\n",
    "  for j in range(i + 1, min(i + 1 + winners, len(cards))):\n",
    "    numbers[j] += numbers[i]\n",
    "\n",
    "sum(numbers)"
   ]
  }
 ],
 "metadata": {
  "kernelspec": {
   "display_name": "base",
   "language": "python",
   "name": "python3"
  },
  "language_info": {
   "codemirror_mode": {
    "name": "ipython",
    "version": 3
   },
   "file_extension": ".py",
   "mimetype": "text/x-python",
   "name": "python",
   "nbconvert_exporter": "python",
   "pygments_lexer": "ipython3",
   "version": "3.11.5"
  }
 },
 "nbformat": 4,
 "nbformat_minor": 2
}
