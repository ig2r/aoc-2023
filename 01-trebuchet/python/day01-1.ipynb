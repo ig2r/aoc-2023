{
 "cells": [
  {
   "cell_type": "code",
   "execution_count": null,
   "id": "3041a651-1e78-4aeb-bc5b-d204825ad760",
   "metadata": {},
   "outputs": [],
   "source": [
    "import re"
   ]
  },
  {
   "cell_type": "code",
   "execution_count": null,
   "id": "16e67b5f-80fc-4246-96f1-4e863e2cdd5c",
   "metadata": {},
   "outputs": [],
   "source": [
    "with open('input.txt', 'r') as f:\n",
    "  lines = f.read().splitlines()"
   ]
  },
  {
   "cell_type": "code",
   "execution_count": null,
   "id": "5f3645b2-6d4b-4b80-b756-8085310a3a52",
   "metadata": {},
   "outputs": [],
   "source": [
    "def extract_coords(line):\n",
    "  m = re.findall(r'\\d', line)\n",
    "  return 10 * int(m[0]) + int(m[-1])\n",
    "\n",
    "coords = map(extract_coords, lines)\n",
    "sum(coords)"
   ]
  }
 ],
 "metadata": {
  "kernelspec": {
   "display_name": "Python 3 (ipykernel)",
   "language": "python",
   "name": "python3"
  },
  "language_info": {
   "codemirror_mode": {
    "name": "ipython",
    "version": 3
   },
   "file_extension": ".py",
   "mimetype": "text/x-python",
   "name": "python",
   "nbconvert_exporter": "python",
   "pygments_lexer": "ipython3",
   "version": "3.11.5"
  }
 },
 "nbformat": 4,
 "nbformat_minor": 5
}
