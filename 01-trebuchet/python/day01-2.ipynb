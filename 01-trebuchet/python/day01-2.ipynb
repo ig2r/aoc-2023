{
 "cells": [
  {
   "cell_type": "code",
   "execution_count": null,
   "id": "16e67b5f-80fc-4246-96f1-4e863e2cdd5c",
   "metadata": {},
   "outputs": [],
   "source": [
    "with open('input.txt', 'r') as f:\n",
    "  lines = f.read().splitlines()"
   ]
  },
  {
   "cell_type": "code",
   "execution_count": null,
   "id": "5cbaa2e9-eeda-4462-9244-6460c3d85946",
   "metadata": {},
   "outputs": [],
   "source": [
    "tokens = {\n",
    "  '0': 0,\n",
    "  '1': 1,\n",
    "  '2': 2,\n",
    "  '3': 3,\n",
    "  '4': 4,\n",
    "  '5': 5,\n",
    "  '6': 6,\n",
    "  '7': 7,\n",
    "  '8': 8,\n",
    "  '9': 9,\n",
    "  'one': 1,\n",
    "  'two': 2,\n",
    "  'three': 3,\n",
    "  'four': 4,\n",
    "  'five': 5,\n",
    "  'six': 6,\n",
    "  'seven': 7,\n",
    "  'eight': 8,\n",
    "  'nine': 9,\n",
    "}\n",
    "\n",
    "def extract_coords(line):\n",
    "  indices = [[k, line.find(k), line.rfind(k)] for k in tokens.keys() if line.find(k) >= 0]\n",
    "  first_token = min(indices, key = lambda x: x[1])[0]\n",
    "  last_token = max(indices, key = lambda x: x[2])[0]\n",
    "  return 10 * tokens[first_token] + tokens[last_token]\n",
    "\n",
    "coords = map(extract_coords, lines)\n",
    "sum(coords)"
   ]
  }
 ],
 "metadata": {
  "kernelspec": {
   "display_name": "Python 3 (ipykernel)",
   "language": "python",
   "name": "python3"
  },
  "language_info": {
   "codemirror_mode": {
    "name": "ipython",
    "version": 3
   },
   "file_extension": ".py",
   "mimetype": "text/x-python",
   "name": "python",
   "nbconvert_exporter": "python",
   "pygments_lexer": "ipython3",
   "version": "3.11.5"
  }
 },
 "nbformat": 4,
 "nbformat_minor": 5
}
