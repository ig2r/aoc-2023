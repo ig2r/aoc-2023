{
 "cells": [
  {
   "cell_type": "code",
   "execution_count": null,
   "metadata": {},
   "outputs": [],
   "source": [
    "with open('input.txt', 'r') as f:\n",
    "  lines = f.read().splitlines()"
   ]
  },
  {
   "cell_type": "code",
   "execution_count": null,
   "metadata": {},
   "outputs": [],
   "source": [
    "def parse_line(line):\n",
    "  [raw_pattern, raw_counts] = line.split(' ')\n",
    "  pattern = list(raw_pattern)\n",
    "  groups = [int(c) for c in raw_counts.split(',')]\n",
    "  return (pattern, groups)\n",
    "\n",
    "records = list(map(parse_line, lines))"
   ]
  },
  {
   "cell_type": "code",
   "execution_count": null,
   "metadata": {},
   "outputs": [],
   "source": [
    "def arrangements(pattern, groups):\n",
    "  # Terminal case\n",
    "  if len(pattern) == 0:\n",
    "    return 1 if len(groups) == 0 else 0\n",
    "\n",
    "  # Check if we won't be able to fit the remaining groups\n",
    "  hash_count = pattern.count('#')\n",
    "  spring_count = sum(groups)\n",
    "  if hash_count + pattern.count('?') < spring_count or hash_count > spring_count:\n",
    "    return 0\n",
    "\n",
    "  symbol, *remaining_pattern = pattern\n",
    "\n",
    "  if symbol == '.':\n",
    "    return arrangements(remaining_pattern, groups)\n",
    "\n",
    "  if symbol == '#':\n",
    "    if len(groups) == 0:\n",
    "      return 0\n",
    "\n",
    "    group, *remaining_groups = groups\n",
    "\n",
    "    # Must have enough remaining space in group\n",
    "    if len(pattern) < group:\n",
    "      #print('  Not enough space left, failing')\n",
    "      return 0\n",
    "\n",
    "    # Must be able to fit all springs\n",
    "    for i in range(group):\n",
    "      if pattern[i] not in ['#', '?']:\n",
    "        return 0\n",
    "\n",
    "    # Advance remaining_pattern, we'll consume more than one symbol\n",
    "    remaining_pattern = pattern[group:]\n",
    "\n",
    "    # Must be able to fit a gap after this group if there are elements left in pattern\n",
    "    if len(remaining_pattern) > 0:\n",
    "      if remaining_pattern[0] not in ['.', '?']:\n",
    "        return 0\n",
    "      else:\n",
    "        remaining_pattern[0] = '.'\n",
    "\n",
    "    return arrangements(remaining_pattern, remaining_groups)\n",
    "\n",
    "  if symbol == '?':\n",
    "    # Try both options\n",
    "    assuming_gap = ['.'] + pattern[1:]\n",
    "    assuming_springs = ['#'] + pattern[1:]\n",
    "    return arrangements(assuming_gap, groups) + arrangements(assuming_springs, groups)\n",
    "\n",
    "  return -20\n",
    "\n",
    "sum([arrangements(*r) for r in records])"
   ]
  },
  {
   "cell_type": "code",
   "execution_count": null,
   "metadata": {},
   "outputs": [],
   "source": [
    "def unfold_pattern(pattern):\n",
    "  raw_pattern = ''.join(pattern)\n",
    "  return list('?'.join([raw_pattern] * 5))\n",
    "\n",
    "unfolded_records = [(unfold_pattern(pattern), groups * 5) for pattern, groups in records]\n",
    "sum([arrangements(*r) for r in unfolded_records])"
   ]
  }
 ],
 "metadata": {
  "kernelspec": {
   "display_name": "base",
   "language": "python",
   "name": "python3"
  },
  "language_info": {
   "codemirror_mode": {
    "name": "ipython",
    "version": 3
   },
   "file_extension": ".py",
   "mimetype": "text/x-python",
   "name": "python",
   "nbconvert_exporter": "python",
   "pygments_lexer": "ipython3",
   "version": "3.11.5"
  }
 },
 "nbformat": 4,
 "nbformat_minor": 2
}
