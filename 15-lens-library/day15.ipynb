{
 "cells": [
  {
   "cell_type": "code",
   "execution_count": null,
   "metadata": {},
   "outputs": [],
   "source": [
    "with open('sample.txt', 'r') as f:\n",
    "  lines = f.read().splitlines()\n",
    "\n",
    "seq = lines[0].split(',')"
   ]
  },
  {
   "cell_type": "code",
   "execution_count": null,
   "metadata": {},
   "outputs": [],
   "source": [
    "def elf_hash(str):\n",
    "  h = 0\n",
    "  for ch in str:\n",
    "    v = ord(ch)\n",
    "    h += v\n",
    "    h *= 17\n",
    "    h &= 0xFF\n",
    "  return h\n",
    "\n",
    "sum(map(elf_hash, seq))"
   ]
  },
  {
   "cell_type": "code",
   "execution_count": null,
   "metadata": {},
   "outputs": [],
   "source": [
    "boxes = [[] for _ in range(256)]\n",
    "\n",
    "for instr in seq:\n",
    "  if '=' in instr:\n",
    "    (label, focal_length) = instr.split('=')\n",
    "    focal_length = int(focal_length)\n",
    "    h = elf_hash(label)\n",
    "\n",
    "    if any([l == label for (l, f) in boxes[h]]):\n",
    "      boxes[h] = [(l, focal_length) if l == label else (l, f) for (l, f) in boxes[h]]\n",
    "    else:\n",
    "      boxes[h] += [(label, focal_length)]\n",
    "\n",
    "  else:\n",
    "    label = instr.split('-')[0]\n",
    "    h = elf_hash(label)\n",
    "    boxes[h] = [(l, f) for (l, f) in boxes[h] if l != label]\n",
    "\n",
    "def focusing_power(box):\n",
    "  return sum([(i + 1) * f for i, (l, f) in enumerate(box)])\n",
    "\n",
    "sum([(i + 1) * focusing_power(b) for i, b in enumerate(boxes)])\n"
   ]
  }
 ],
 "metadata": {
  "kernelspec": {
   "display_name": "base",
   "language": "python",
   "name": "python3"
  },
  "language_info": {
   "codemirror_mode": {
    "name": "ipython",
    "version": 3
   },
   "file_extension": ".py",
   "mimetype": "text/x-python",
   "name": "python",
   "nbconvert_exporter": "python",
   "pygments_lexer": "ipython3",
   "version": "3.11.5"
  }
 },
 "nbformat": 4,
 "nbformat_minor": 2
}
