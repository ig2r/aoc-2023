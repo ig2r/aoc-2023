{
 "cells": [
  {
   "cell_type": "code",
   "execution_count": null,
   "metadata": {},
   "outputs": [],
   "source": [
    "import numpy as np\n",
    "\n",
    "with open('sample.txt', 'r') as f:\n",
    "  lines = f.read().splitlines()"
   ]
  },
  {
   "cell_type": "code",
   "execution_count": null,
   "metadata": {},
   "outputs": [],
   "source": [
    "plan = np.asarray(list(map(list, lines)))\n",
    "\n",
    "# Find starting position\n",
    "def find_start_coords(plan):\n",
    "  for i in range(plan.shape[0]):\n",
    "    for j in range(plan.shape[1]):\n",
    "      if plan[i, j] == 'S':\n",
    "        return (i, j)\n",
    "\n",
    "start_coords = find_start_coords(plan)\n",
    "plan[start_coords] = '.'\n",
    "\n",
    "frontier = set([start_coords])"
   ]
  },
  {
   "cell_type": "code",
   "execution_count": null,
   "metadata": {},
   "outputs": [],
   "source": [
    "def take_step(frontier):\n",
    "  frontier_prime = set()\n",
    "\n",
    "  for i, j in frontier:\n",
    "    if i > 0 and plan[i - 1, j] == '.':\n",
    "      frontier_prime.add((i - 1, j))\n",
    "    if j > 0 and plan[i, j - 1] == '.':\n",
    "      frontier_prime.add((i, j - 1))\n",
    "    if i < plan.shape[0] - 1 and plan[i + 1, j] == '.':\n",
    "      frontier_prime.add((i + 1, j))\n",
    "    if j < plan.shape[1] - 1 and plan[i, j + 1] == '.':\n",
    "      frontier_prime.add((i, j + 1))\n",
    "\n",
    "  return frontier_prime\n",
    "\n",
    "f = frontier.copy()\n",
    "\n",
    "for k in range(64):\n",
    "  f = take_step(f)\n",
    "\n",
    "len(f)"
   ]
  }
 ],
 "metadata": {
  "kernelspec": {
   "display_name": "base",
   "language": "python",
   "name": "python3"
  },
  "language_info": {
   "codemirror_mode": {
    "name": "ipython",
    "version": 3
   },
   "file_extension": ".py",
   "mimetype": "text/x-python",
   "name": "python",
   "nbconvert_exporter": "python",
   "pygments_lexer": "ipython3",
   "version": "3.11.5"
  }
 },
 "nbformat": 4,
 "nbformat_minor": 2
}
