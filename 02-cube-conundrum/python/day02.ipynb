{
 "cells": [
  {
   "cell_type": "code",
   "execution_count": 1,
   "metadata": {},
   "outputs": [],
   "source": [
    "import re\n",
    "import numpy as np\n",
    "\n",
    "with open('input.txt', 'r') as f:\n",
    "  lines = f.read().splitlines()"
   ]
  },
  {
   "cell_type": "code",
   "execution_count": 2,
   "metadata": {},
   "outputs": [],
   "source": [
    "# Defines \"unit vectors\" for all three colors\n",
    "color_unit_vectors = {\n",
    "  'red': np.array([1, 0, 0]),\n",
    "  'green': np.array([0, 1, 0]),\n",
    "  'blue': np.array([0, 0, 1]),\n",
    "}\n",
    "\n",
    "# Given a string like '4 blue', returns a vector like [0, 0, 4].\n",
    "def parse_cube(cube_str):\n",
    "  (quantity_str, color) = re.search(r'(\\d+) (red|green|blue)', cube_str).groups()\n",
    "  return int(quantity_str) * color_unit_vectors[color]\n",
    "\n",
    "# Given a string like '2 blue, 3 green', returns a vector like [0, 3, 2].\n",
    "def parse_round(round_str):\n",
    "  cubes = re.split(r'\\s*,\\s*', round_str)\n",
    "  return sum(map(parse_cube, cubes))\n",
    "\n",
    "# Given a string like '2 blue, 3 green; 1 red, 1 green', returns a vector of maximums\n",
    "# per color, e.g., [1, 3, 2].\n",
    "def parse_rounds(rounds_str):\n",
    "  # Split input by semicolons\n",
    "  round_strs = re.split(r'\\s*;\\s*', rounds_str)\n",
    "  # Map each round to a three-element vector representing the encountered colors\n",
    "  round_vecs = list(map(parse_round, round_strs))\n",
    "  # Stack round vectors to obtain a matrix with 3 cols and one row per round played\n",
    "  rounds_matrix = np.stack(round_vecs, axis=0)\n",
    "  return np.max(rounds_matrix, axis=0)\n",
    "\n",
    "def parse_game(line):\n",
    "  (game_id_str, rounds_str) = re.search(r'Game (\\d+): (.*)', line).groups()\n",
    "  return (int(game_id_str), parse_rounds(rounds_str))\n",
    "\n",
    "games = list(map(parse_game, lines))"
   ]
  },
  {
   "cell_type": "markdown",
   "metadata": {},
   "source": [
    "## Part 1"
   ]
  },
  {
   "cell_type": "code",
   "execution_count": 3,
   "metadata": {},
   "outputs": [
    {
     "data": {
      "text/plain": [
       "2061"
      ]
     },
     "execution_count": 3,
     "metadata": {},
     "output_type": "execute_result"
    }
   ],
   "source": [
    "valid_game_ids = [game_id for (game_id, max_cubes) in games\n",
    "                  if np.all(max_cubes <= np.array([12, 13, 14]))]\n",
    "\n",
    "sum(valid_game_ids)"
   ]
  },
  {
   "cell_type": "markdown",
   "metadata": {},
   "source": [
    "## Part 2"
   ]
  },
  {
   "cell_type": "code",
   "execution_count": 4,
   "metadata": {},
   "outputs": [
    {
     "data": {
      "text/plain": [
       "72596"
      ]
     },
     "execution_count": 4,
     "metadata": {},
     "output_type": "execute_result"
    }
   ],
   "source": [
    "powers = [np.prod(max_cubes) for (game_id, max_cubes) in games]\n",
    "sum(powers)"
   ]
  }
 ],
 "metadata": {
  "kernelspec": {
   "display_name": "base",
   "language": "python",
   "name": "python3"
  },
  "language_info": {
   "codemirror_mode": {
    "name": "ipython",
    "version": 3
   },
   "file_extension": ".py",
   "mimetype": "text/x-python",
   "name": "python",
   "nbconvert_exporter": "python",
   "pygments_lexer": "ipython3",
   "version": "3.11.5"
  }
 },
 "nbformat": 4,
 "nbformat_minor": 2
}
