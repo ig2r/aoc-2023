{
 "cells": [
  {
   "cell_type": "code",
   "execution_count": null,
   "metadata": {},
   "outputs": [],
   "source": [
    "import numpy as np\n",
    "\n",
    "with open('sample.txt', 'r') as f:\n",
    "  lines = f.read().splitlines()"
   ]
  },
  {
   "cell_type": "code",
   "execution_count": null,
   "metadata": {},
   "outputs": [],
   "source": [
    "rocks = np.array([list(l) for l in lines])\n",
    "\n",
    "def find_space_north(rocks, i, j):\n",
    "  while i > 0 and rocks[i - 1][j] == '.':\n",
    "    i -= 1\n",
    "  return i\n",
    "\n",
    "def shift_stuff_north(rocks):\n",
    "  rocks = rocks.copy()\n",
    "  for i in range(1, len(rocks)):\n",
    "    for j in range(len(rocks[0])):\n",
    "      if rocks[i][j] == 'O':\n",
    "        # Found a round rock, shift it as far north as we can\n",
    "        i_prime = find_space_north(rocks, i, j)\n",
    "        if i != i_prime:\n",
    "          rocks[i_prime][j] = 'O'\n",
    "          rocks[i][j] = '.'\n",
    "  return rocks\n",
    "\n",
    "def get_load_on_north_support_beams(rocks):\n",
    "  load = 0\n",
    "  for i in range(len(rocks)):\n",
    "    factor = len(rocks) - i\n",
    "    for r in rocks[i]:\n",
    "      if r == 'O':\n",
    "        load += factor\n",
    "  return load\n",
    "\n",
    "rocks_prime = shift_stuff_north(rocks)\n",
    "get_load_on_north_support_beams(rocks_prime)"
   ]
  },
  {
   "cell_type": "code",
   "execution_count": null,
   "metadata": {},
   "outputs": [],
   "source": [
    "r = rocks\n",
    "\n",
    "loads = []\n",
    "\n",
    "for c in range(1000):\n",
    "  for i in range(4):\n",
    "    r = shift_stuff_north(r)\n",
    "    r = np.rot90(r, axes=(1, 0))\n",
    "  l = get_load_on_north_support_beams(r)\n",
    "  loads.append(l)\n",
    "  #print(f'After cycle {c}: load = {l}')\n",
    "\n",
    "loads\n",
    "\n",
    "# TODO: generated loads become cyclic after some point. Detect recurrence pattern\n",
    "# and extrapolate for requested index."
   ]
  }
 ],
 "metadata": {
  "kernelspec": {
   "display_name": "base",
   "language": "python",
   "name": "python3"
  },
  "language_info": {
   "codemirror_mode": {
    "name": "ipython",
    "version": 3
   },
   "file_extension": ".py",
   "mimetype": "text/x-python",
   "name": "python",
   "nbconvert_exporter": "python",
   "pygments_lexer": "ipython3",
   "version": "3.11.5"
  }
 },
 "nbformat": 4,
 "nbformat_minor": 2
}
