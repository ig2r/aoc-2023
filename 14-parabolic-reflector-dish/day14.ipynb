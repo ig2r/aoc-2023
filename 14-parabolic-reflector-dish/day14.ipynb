{
 "cells": [
  {
   "cell_type": "code",
   "execution_count": null,
   "metadata": {},
   "outputs": [],
   "source": [
    "import numpy as np\n",
    "\n",
    "with open('sample.txt', 'r') as f:\n",
    "  lines = f.read().splitlines()"
   ]
  },
  {
   "cell_type": "code",
   "execution_count": null,
   "metadata": {},
   "outputs": [],
   "source": [
    "rocks = [list(l) for l in lines]\n",
    "\n",
    "def find_space_north(rocks, i, j):\n",
    "  while i > 0 and rocks[i - 1][j] == '.':\n",
    "    i -= 1\n",
    "  return i\n",
    "\n",
    "for i in range(1, len(rocks)):\n",
    "  for j in range(len(rocks[0])):\n",
    "    if rocks[i][j] == 'O':\n",
    "      # Found a round rock, shift it as far north as we can\n",
    "      i_prime = find_space_north(rocks, i, j)\n",
    "      if i != i_prime:\n",
    "        rocks[i_prime][j] = 'O'\n",
    "        rocks[i][j] = '.'\n",
    "\n",
    "load = 0\n",
    "for i in range(len(rocks)):\n",
    "  factor = len(rocks) - i\n",
    "  for r in rocks[i]:\n",
    "    if r == 'O':\n",
    "      load += factor\n",
    "\n",
    "load"
   ]
  }
 ],
 "metadata": {
  "kernelspec": {
   "display_name": "base",
   "language": "python",
   "name": "python3"
  },
  "language_info": {
   "codemirror_mode": {
    "name": "ipython",
    "version": 3
   },
   "file_extension": ".py",
   "mimetype": "text/x-python",
   "name": "python",
   "nbconvert_exporter": "python",
   "pygments_lexer": "ipython3",
   "version": "3.11.5"
  }
 },
 "nbformat": 4,
 "nbformat_minor": 2
}
