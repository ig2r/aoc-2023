{
 "cells": [
  {
   "cell_type": "code",
   "execution_count": null,
   "metadata": {},
   "outputs": [],
   "source": [
    "import re\n",
    "\n",
    "with open('input.txt', 'r') as f:\n",
    "  lines = f.read().splitlines()"
   ]
  },
  {
   "cell_type": "code",
   "execution_count": null,
   "metadata": {},
   "outputs": [],
   "source": [
    "# List of tuples that look like ('467', <row>, (<start (inclusive)>, <end (exclusive)>))\n",
    "part_numbers = []\n",
    "\n",
    "for i in range(len(lines)):\n",
    "  row = lines[i]\n",
    "  for match in re.finditer(r'\\d+', row):\n",
    "    part_numbers.append((match.group(), i, match.span()))"
   ]
  },
  {
   "cell_type": "code",
   "execution_count": null,
   "metadata": {},
   "outputs": [],
   "source": [
    "# IDs of part numbers that have an adjacent part\n",
    "part_numbers_next_to_parts = []\n",
    "\n",
    "# Dictionary of gears, with:\n",
    "# key: (row, col) of gear\n",
    "# value: list of part number IDs\n",
    "gears = {}\n",
    "\n",
    "for (id, i, (s, e)) in part_numbers:\n",
    "  # Extend left/right by one\n",
    "  s_min = max(0, s - 1)\n",
    "  e_max = min(len(lines[i]), e + 1)\n",
    "\n",
    "  # i_min/i_max: indices of rows to include in neighborhood (inclusive/exclusive)\n",
    "  i_min = max(0, i - 1)\n",
    "  i_max = min(len(lines) - 1, i + 1) + 1\n",
    "\n",
    "  # Collect lines in neighborhood (above/same/below)\n",
    "  neighborhood = [lines[j][s_min:e_max] for j in range(i_min, i_max)]\n",
    "\n",
    "  # Check if neighborhood contains any part\n",
    "  if any([re.search(r'[^0-9.]', row) for row in neighborhood]):\n",
    "    part_numbers_next_to_parts.append(int(id))\n",
    "\n",
    "  # Collect gears in neighborhood\n",
    "  for r in range(i_min, i_max):\n",
    "    for c in range(s_min, e_max):\n",
    "      if lines[r][c] == '*':\n",
    "        gears[(r, c)] = gears.get((r, c), []) + [id]\n",
    "\n",
    "sum(part_numbers_next_to_parts)"
   ]
  },
  {
   "cell_type": "code",
   "execution_count": null,
   "metadata": {},
   "outputs": [],
   "source": [
    "gear_ratios = []\n",
    "\n",
    "for part_ids in gears.values():\n",
    "  if len(part_ids) == 2:\n",
    "    gear_ratios.append(int(part_ids[0]) * int(part_ids[1]))\n",
    "\n",
    "sum(gear_ratios)"
   ]
  }
 ],
 "metadata": {
  "kernelspec": {
   "display_name": "base",
   "language": "python",
   "name": "python3"
  },
  "language_info": {
   "codemirror_mode": {
    "name": "ipython",
    "version": 3
   },
   "file_extension": ".py",
   "mimetype": "text/x-python",
   "name": "python",
   "nbconvert_exporter": "python",
   "pygments_lexer": "ipython3",
   "version": "3.11.5"
  }
 },
 "nbformat": 4,
 "nbformat_minor": 2
}
