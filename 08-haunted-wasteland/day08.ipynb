{
 "cells": [
  {
   "cell_type": "code",
   "execution_count": null,
   "metadata": {},
   "outputs": [],
   "source": [
    "import re\n",
    "import numpy as np\n",
    "\n",
    "with open('input.txt', 'r') as f:\n",
    "  lines = f.read().splitlines()"
   ]
  },
  {
   "cell_type": "code",
   "execution_count": null,
   "metadata": {},
   "outputs": [],
   "source": [
    "def get_directions(lines):\n",
    "  rl = { 'R': 1, 'L': 0 }\n",
    "  return [rl[x] for x in lines[0]]\n",
    "\n",
    "def parse_line(line):\n",
    "  m = re.search(r'(\\w+) = \\((\\w+), (\\w+)\\)', line)\n",
    "  (vertex, left, right) = m.groups()\n",
    "  return (vertex, [left, right])\n",
    "\n",
    "def get_vertices(lines):\n",
    "  vertices = {}\n",
    "  for line in lines[2:]:\n",
    "    (vertex, edges) = parse_line(line)\n",
    "    vertices[vertex] = edges\n",
    "  return vertices\n",
    "\n",
    "directions = get_directions(lines)\n",
    "vertices = get_vertices(lines)"
   ]
  },
  {
   "cell_type": "markdown",
   "metadata": {},
   "source": [
    "## Part 1"
   ]
  },
  {
   "cell_type": "code",
   "execution_count": null,
   "metadata": {},
   "outputs": [],
   "source": [
    "def finished_pt1(pos):\n",
    "  return pos == 'ZZZ'\n",
    "\n",
    "def get_steps(pos, finished_condition):\n",
    "  step = 0\n",
    "\n",
    "  while not finished_condition(pos):\n",
    "    pos = vertices[pos][directions[step % len(directions)]]\n",
    "    step += 1\n",
    "  return step\n",
    "\n",
    "get_steps('AAA', finished_pt1)"
   ]
  },
  {
   "cell_type": "markdown",
   "metadata": {},
   "source": [
    "## Part 2"
   ]
  },
  {
   "cell_type": "code",
   "execution_count": null,
   "metadata": {},
   "outputs": [],
   "source": [
    "def finished_pt2(pos):\n",
    "  return pos[-1] == 'Z'\n",
    "\n",
    "starts = [v for v in vertices.keys() if v[-1] == 'A']\n",
    "\n",
    "cycles = [get_steps(s, finished_pt2) for s in starts]\n",
    "np.lcm.reduce(cycles)"
   ]
  }
 ],
 "metadata": {
  "kernelspec": {
   "display_name": "base",
   "language": "python",
   "name": "python3"
  },
  "language_info": {
   "codemirror_mode": {
    "name": "ipython",
    "version": 3
   },
   "file_extension": ".py",
   "mimetype": "text/x-python",
   "name": "python",
   "nbconvert_exporter": "python",
   "pygments_lexer": "ipython3",
   "version": "3.11.5"
  }
 },
 "nbformat": 4,
 "nbformat_minor": 2
}
