{
 "cells": [
  {
   "cell_type": "code",
   "execution_count": null,
   "metadata": {},
   "outputs": [],
   "source": [
    "import numpy as np\n",
    "\n",
    "with open('input.txt', 'r') as f:\n",
    "  lines = f.read().splitlines()"
   ]
  },
  {
   "cell_type": "code",
   "execution_count": null,
   "metadata": {},
   "outputs": [],
   "source": [
    "universe = np.array([list(l) for l in lines])\n",
    "\n",
    "def is_empty_space(row_or_col):\n",
    "  return all([c == '.' for c in row_or_col])\n",
    "\n",
    "def get_row(i, universe):\n",
    "  return universe[i]\n",
    "\n",
    "def get_col(j, universe):\n",
    "  return universe.T[j]\n",
    "\n",
    "empty_rows = [i for i in range(universe.shape[0]) if is_empty_space(get_row(i, universe))]\n",
    "empty_cols = [j for j in range(universe.shape[1]) if is_empty_space(get_col(j, universe))]\n",
    "\n",
    "def get_galaxies(universe, scale):\n",
    "  galaxies = []\n",
    "  for i in range(universe.shape[0]):\n",
    "    for j in range(universe.shape[1]):\n",
    "      if universe[i, j] == '#':\n",
    "        # Factor in dilation\n",
    "        galaxies.append((\n",
    "          i + (scale - 1) * len([i_prime for i_prime in empty_rows if i_prime < i]),\n",
    "          j + (scale - 1) * len([j_prime for j_prime in empty_cols if j_prime < j])))\n",
    "  return galaxies\n",
    "\n",
    "# Use scale = 2 for part 1 of puzzle\n",
    "galaxies = get_galaxies(universe, 1000000)"
   ]
  },
  {
   "cell_type": "code",
   "execution_count": null,
   "metadata": {},
   "outputs": [],
   "source": [
    "# Sum pairwise distances\n",
    "def manhattan_distance(x, y):\n",
    "  return abs(x[0] - y[0]) + abs(x[1] - y[1])\n",
    "\n",
    "dist_sum = 0\n",
    "\n",
    "for i in range(len(galaxies)):\n",
    "  for j in range(i + 1, len(galaxies)):\n",
    "    dist_sum += manhattan_distance(galaxies[i], galaxies[j])\n",
    "\n",
    "dist_sum"
   ]
  }
 ],
 "metadata": {
  "kernelspec": {
   "display_name": "base",
   "language": "python",
   "name": "python3"
  },
  "language_info": {
   "codemirror_mode": {
    "name": "ipython",
    "version": 3
   },
   "file_extension": ".py",
   "mimetype": "text/x-python",
   "name": "python",
   "nbconvert_exporter": "python",
   "pygments_lexer": "ipython3",
   "version": "3.11.5"
  }
 },
 "nbformat": 4,
 "nbformat_minor": 2
}
