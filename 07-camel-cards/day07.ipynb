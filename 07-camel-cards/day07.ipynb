{
 "cells": [
  {
   "cell_type": "code",
   "execution_count": null,
   "metadata": {},
   "outputs": [],
   "source": [
    "from collections import Counter\n",
    "\n",
    "with open('input.txt', 'r') as f:\n",
    "  lines = f.read().splitlines()"
   ]
  },
  {
   "cell_type": "code",
   "execution_count": null,
   "metadata": {},
   "outputs": [],
   "source": [
    "def get_hands_and_bids(lines):\n",
    "  components = [l.split() for l in lines]\n",
    "  return [(c[0], int(c[1])) for c in components]\n",
    "\n",
    "def is_5k(hand):\n",
    "  return len(set(hand)) == 1\n",
    "\n",
    "def is_4k(hand):\n",
    "  counts = list(Counter(hand).values())\n",
    "  return 4 in counts\n",
    "\n",
    "def is_3k(hand):\n",
    "  counts = list(Counter(hand).values())\n",
    "  return 3 in counts\n",
    "\n",
    "def is_fullhouse(hand):\n",
    "  counts = list(Counter(hand).values())\n",
    "  return 3 in counts and 2 in counts\n",
    "\n",
    "def is_1p(hand):\n",
    "  return len(set(hand)) <= 4\n",
    "\n",
    "def is_2p(hand):\n",
    "  return len(set(hand)) <= 3\n",
    "\n",
    "def type_strength(hand):\n",
    "  if is_5k(hand):\n",
    "    return 9\n",
    "  if is_4k(hand):\n",
    "    return 8\n",
    "  if is_fullhouse(hand):\n",
    "    return 7\n",
    "  if is_3k(hand):\n",
    "    return 6\n",
    "  if is_2p(hand):\n",
    "    return 5\n",
    "  if is_1p(hand):\n",
    "    return 4\n",
    "  return 1\n",
    "\n",
    "def by_type_strength(x):\n",
    "  (hand, bid) = x\n",
    "  return -type_strength(hand)\n",
    "\n",
    "def by_strongest_card(x):\n",
    "  (hand, bid) = x\n",
    "  return hand.replace('J', 'W').replace('Q', 'X').replace('K', 'Y').replace('A', 'Z')\n",
    "\n",
    "h = get_hands_and_bids(lines)\n",
    "h = sorted(h, key=by_strongest_card, reverse=True)\n",
    "h = sorted(h, key=by_type_strength)\n",
    "\n",
    "ranks = [len(h) - i for i in range(len(h))]\n",
    "\n",
    "sum([bid * rank for ((hand, bid), rank) in zip(h, ranks)])"
   ]
  },
  {
   "cell_type": "code",
   "execution_count": null,
   "metadata": {},
   "outputs": [],
   "source": [
    "def powerup(hand):\n",
    "  items = [(card, count) for (card, count) in Counter(hand).items() if card != 'J']\n",
    "  replacement = 'A' if len(items) == 0 else max(items, key=lambda x: x[1])[0]\n",
    "  return hand.replace('J', replacement)\n",
    "\n",
    "def by_type_strength2(x):\n",
    "  (hand, bid) = x\n",
    "  return -type_strength(powerup(hand))\n",
    "\n",
    "def by_strongest_card2(x):\n",
    "  (hand, bid) = x\n",
    "  return hand.replace('J', '1').replace('Q', 'X').replace('K', 'Y').replace('A', 'Z')\n",
    "\n",
    "h = get_hands_and_bids(lines)\n",
    "h = sorted(h, key=by_strongest_card2, reverse=True)\n",
    "h = sorted(h, key=by_type_strength2)\n",
    "\n",
    "ranks = [len(h) - i for i in range(len(h))]\n",
    "\n",
    "sum([bid * rank for ((hand, bid), rank) in zip(h, ranks)])"
   ]
  }
 ],
 "metadata": {
  "kernelspec": {
   "display_name": "base",
   "language": "python",
   "name": "python3"
  },
  "language_info": {
   "codemirror_mode": {
    "name": "ipython",
    "version": 3
   },
   "file_extension": ".py",
   "mimetype": "text/x-python",
   "name": "python",
   "nbconvert_exporter": "python",
   "pygments_lexer": "ipython3",
   "version": "3.11.5"
  }
 },
 "nbformat": 4,
 "nbformat_minor": 2
}
