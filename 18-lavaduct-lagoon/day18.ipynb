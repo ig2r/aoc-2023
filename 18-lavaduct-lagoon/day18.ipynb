{
 "cells": [
  {
   "cell_type": "code",
   "execution_count": null,
   "metadata": {},
   "outputs": [],
   "source": [
    "import numpy as np\n",
    "import re\n",
    "\n",
    "with open('sample.txt', 'r') as f:\n",
    "  lines = f.read().splitlines()"
   ]
  },
  {
   "cell_type": "code",
   "execution_count": null,
   "metadata": {},
   "outputs": [],
   "source": [
    "def parse_line(line):\n",
    "  (dir, dist) = re.search(r'(.)\\s+(\\d+)', line).groups()\n",
    "  return (dir, int(dist))\n",
    "\n",
    "plan = list(map(parse_line, lines))\n"
   ]
  },
  {
   "cell_type": "code",
   "execution_count": null,
   "metadata": {},
   "outputs": [],
   "source": [
    "# Will hold the x/y coordinates of all trench squares\n",
    "cur = (0, 0)\n",
    "trench = [cur]\n",
    "\n",
    "# Trace trench coordinates. Note: trench may contain duplicate coordinates!\n",
    "for (dir, dist) in plan:\n",
    "  while dist > 0:\n",
    "    if dir == 'L':\n",
    "      cur = (cur[0] - 1, cur[1])\n",
    "    elif dir == 'R':\n",
    "      cur = (cur[0] + 1, cur[1])\n",
    "    elif dir == 'U':\n",
    "      cur = (cur[0], cur[1] - 1)\n",
    "    elif dir == 'D':\n",
    "      cur = (cur[0], cur[1] + 1)\n",
    "\n",
    "    trench.append(cur)\n",
    "    dist -= 1"
   ]
  },
  {
   "cell_type": "code",
   "execution_count": null,
   "metadata": {},
   "outputs": [],
   "source": [
    "# Get min and max x/y coordinates in trench\n",
    "x_min = min(trench, key=lambda t: t[0])[0]\n",
    "y_min = min(trench, key=lambda t: t[1])[1]\n",
    "x_max = max(trench, key=lambda t: t[0])[0]\n",
    "y_max = max(trench, key=lambda t: t[1])[1]\n",
    "\n",
    "padding = 1\n",
    "arr = np.zeros((y_max - y_min + 1 + 2 * padding, x_max - x_min + 1 + 2 * padding))\n",
    "\n",
    "# Paint trench\n",
    "for x, y in trench:\n",
    "  arr[y - y_min + padding, x - x_min + padding] = 1\n",
    "\n",
    "# Flood outside\n",
    "frontier = [(0, 0)]\n",
    "\n",
    "while frontier:\n",
    "  x, y = frontier.pop()\n",
    "  arr[y, x] = 2\n",
    "\n",
    "  if x > 0 and arr[y, x - 1] == 0:\n",
    "    frontier.append((x - 1, y))\n",
    "\n",
    "  if y > 0 and arr[y - 1, x] == 0:\n",
    "    frontier.append((x, y - 1))\n",
    "\n",
    "  if x < arr.shape[1] - 1 and arr[y, x + 1] == 0:\n",
    "    frontier.append((x + 1, y))\n",
    "\n",
    "  if y < arr.shape[0] - 1 and arr[y + 1, x] == 0:\n",
    "    frontier.append((x, y + 1))\n",
    "\n",
    "# Count\n",
    "trench_spaces = arr == 1\n",
    "interior_spaces = arr == 0\n",
    "\n",
    "# This is the solution for part 1:\n",
    "np.sum(trench_spaces) + np.sum(interior_spaces)"
   ]
  }
 ],
 "metadata": {
  "kernelspec": {
   "display_name": "base",
   "language": "python",
   "name": "python3"
  },
  "language_info": {
   "codemirror_mode": {
    "name": "ipython",
    "version": 3
   },
   "file_extension": ".py",
   "mimetype": "text/x-python",
   "name": "python",
   "nbconvert_exporter": "python",
   "pygments_lexer": "ipython3",
   "version": "3.11.5"
  }
 },
 "nbformat": 4,
 "nbformat_minor": 2
}
